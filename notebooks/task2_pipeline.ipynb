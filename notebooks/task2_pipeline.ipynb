{
 "cells": [
  {
   "cell_type": "markdown",
   "id": "28b1a0bd",
   "metadata": {},
   "source": [
    "### Task 2 RFQs similarity"
   ]
  },
  {
   "cell_type": "code",
   "execution_count": 457,
   "id": "cabe8d20",
   "metadata": {},
   "outputs": [],
   "source": [
    "import pandas as pd\n",
    "import re"
   ]
  },
  {
   "cell_type": "code",
   "execution_count": null,
   "id": "c8e71702",
   "metadata": {},
   "outputs": [],
   "source": [
    "rfq_data = pd.read_csv(\"/Users/hyosangkim/Desktop/repo/vanilla-steel/data/task_2/rfq.csv\")"
   ]
  },
  {
   "cell_type": "code",
   "execution_count": null,
   "id": "e80c9af8",
   "metadata": {},
   "outputs": [],
   "source": [
    "rfq_ref = pd.read_csv(\"/Users/hyosangkim/Desktop/repo/vanilla-steel/data/task_2/reference_properties.tsv\", sep='\\t')"
   ]
  },
  {
   "cell_type": "markdown",
   "id": "98eff458",
   "metadata": {},
   "source": [
    "#### Task B.1\n",
    "- Normalize the grade (uppercase, split with suffixes, aliases handling)\n",
    "- Flag grade without reference.\n",
    "- Parse range strings to min/max with unit\n",
    "- Join reference with CSV data."
   ]
  },
  {
   "cell_type": "code",
   "execution_count": 460,
   "id": "3d4d8a8c",
   "metadata": {},
   "outputs": [],
   "source": [
    "# normalize the grade key\n",
    "def split_grade_and_suffix(grade: str):\n",
    "    \"\"\"\n",
    "    Normalize the grade by casing, split by non-alphanumeric suffixes.\n",
    "    Returns (base, suffix).\n",
    "    \"\"\"\n",
    "    if not isinstance(grade, str) or not grade.strip():\n",
    "        return None, None\n",
    "    \n",
    "    grade = grade.upper()\n",
    "    split_symbols = {ch for ch in grade if not ch.isalnum() and ch != \".\"}\n",
    "    if not split_symbols:\n",
    "        return grade, None\n",
    "    pattern = \"[\" + re.escape(\"\".join(split_symbols)) + \"]\"\n",
    "    parts = re.split(pattern, grade, maxsplit=1)\n",
    "    base = parts[0]\n",
    "    suffixes = \"\".join([p for p in parts[1:] if p])\n",
    "    return base, suffixes\n",
    "\n",
    "rfq_data[[\"grade\", \"grade_suffix\"]] = rfq_data[\"grade\"].apply(\n",
    "    lambda x: pd.Series(split_grade_and_suffix(x)) # Series to assign base and suffix right away\n",
    ")\n",
    "\n",
    "rfq_ref[[\"grade\", \"grade_suffix\"]] = rfq_ref[\"Grade/Material\"].apply(\n",
    "    lambda x: pd.Series(split_grade_and_suffix(x))\n",
    ")"
   ]
  },
  {
   "cell_type": "code",
   "execution_count": 461,
   "id": "aa912731",
   "metadata": {},
   "outputs": [],
   "source": [
    "# Flag the grade without reference\n",
    "rfq_data[\"grade_joined\"] = rfq_data[\"grade\"].fillna(\"\") + rfq_data[\"grade_suffix\"].fillna(\"\")\n",
    "rfq_ref[\"grade_joined\"] = rfq_ref[\"grade\"].fillna(\"\") + rfq_ref[\"grade_suffix\"].fillna(\"\")\n",
    "grades_from_ref = set(rfq_ref[\"grade_joined\"].dropna())\n",
    "rfq_data[\"missing_in_ref\"] = ~rfq_data[\"grade_joined\"].isin(grades_from_ref)"
   ]
  },
  {
   "cell_type": "code",
   "execution_count": 462,
   "id": "57f38543",
   "metadata": {},
   "outputs": [
    {
     "name": "stdout",
     "output_type": "stream",
     "text": [
      "Unique missing grades: {''}\n"
     ]
    }
   ],
   "source": [
    "# Collect unique missing grades and check what are they if any.\n",
    "unique_missing = set(rfq_data.loc[rfq_data[\"missing_in_ref\"], \"grade_joined\"])\n",
    "print(\"Unique missing grades:\", unique_missing) "
   ]
  },
  {
   "cell_type": "code",
   "execution_count": 463,
   "id": "def90ef1",
   "metadata": {},
   "outputs": [],
   "source": [
    "# Columns to exclude when parsing the range based values. \n",
    "columns_except = [\n",
    "    \"Grade/Material\",\n",
    "    \"grade\",\n",
    "    \"grade_suffix\", \n",
    "    \"grade_joined\",\n",
    "    \"UNS_No\", \n",
    "    \"Steel_No\",\n",
    "    \"Standards\",\n",
    "    \"Impact toughness (Charpy V-notch)\",\n",
    "    \"Fatigue limit\",\n",
    "    \"Creep resistance\",\n",
    "    \"Source_Pages\",\n",
    "    \"Application\",\n",
    "    \"Category\",\n",
    "    \"Coating\"\n",
    "]"
   ]
  },
  {
   "cell_type": "code",
   "execution_count": 464,
   "id": "229c7249",
   "metadata": {},
   "outputs": [],
   "source": [
    "# Dataframe to parse the range values.\n",
    "rfq_ref_ranges=rfq_ref.drop(columns=columns_except)"
   ]
  },
  {
   "cell_type": "code",
   "execution_count": 465,
   "id": "182579e9",
   "metadata": {},
   "outputs": [
    {
     "data": {
      "text/plain": [
       "{' ', '%', '(', ')', '-', '.', '×', '≤', '≥'}"
      ]
     },
     "execution_count": 465,
     "metadata": {},
     "output_type": "execute_result"
    }
   ],
   "source": [
    "# Inspect the types of range values in the dataframe.  \n",
    "all_text = \"\".join(rfq_ref_ranges.astype(str).fillna(\"\").values.ravel()) # dataframe values into 2D and then 1D flattening\n",
    "range_symbols = {ch for ch in all_text if not ch.isalnum()}\n",
    "range_symbols"
   ]
  },
  {
   "cell_type": "code",
   "execution_count": 466,
   "id": "af0767ff",
   "metadata": {},
   "outputs": [],
   "source": [
    "# Range value containing values' column names\n",
    "range_columns = list(rfq_ref_ranges.columns)"
   ]
  },
  {
   "cell_type": "code",
   "execution_count": 467,
   "id": "a80d43cf",
   "metadata": {},
   "outputs": [],
   "source": [
    "def parse_range_with_unit(value: str):\n",
    "    \"\"\"\n",
    "    Parse range like '150 - 440 MPa', '>=280 MPa', '≤20 mm'. \n",
    "    Returns tuple (min, max, unit).\n",
    "    \"\"\"\n",
    "    if pd.isna(value):\n",
    "        return (None, None, None)\n",
    "\n",
    "    text = str(value).strip()\n",
    "    # Extract unit. \n",
    "    unit_match = re.search(r\"([a-zA-Z%]+)$\", text)\n",
    "    unit = unit_match.group(1) if unit_match else None\n",
    "\n",
    "    # Remove unit for parsing\n",
    "    numeric_text = re.sub(r\"[a-zA-Z%]\", \"\", text).replace(\" \", \"\")\n",
    "\n",
    "    min_val, max_val = None, None\n",
    "\n",
    "    # Match range \"150-440\"\n",
    "    range_match = re.match(r\"^(\\d+(?:\\.\\d+)?)[-–](\\d+(?:\\.\\d+)?)$\", numeric_text)\n",
    "    if range_match:\n",
    "        min_val, max_val = float(range_match.group(1)), float(range_match.group(2))\n",
    "\n",
    "    # Match greater than e.g., >=280 MPa\n",
    "    elif re.match(r\"^≥?(\\d+(?:\\.\\d+)?)$\", numeric_text):\n",
    "        min_val = float(re.findall(r\"\\d+(?:\\.\\d+)?\", numeric_text)[0])\n",
    "\n",
    "    elif re.match(r\"^>(\\d+(?:\\.\\d+)?)$\", numeric_text):\n",
    "        min_val = float(re.findall(r\"\\d+(?:\\.\\d+)?\", numeric_text)[0])\n",
    "\n",
    "    # Match less than e.g., <=20\n",
    "    elif re.match(r\"^≤?(\\d+(?:\\.\\d+)?)$\", numeric_text):\n",
    "        max_val = float(re.findall(r\"\\d+(?:\\.\\d+)?\", numeric_text)[0])\n",
    "\n",
    "    elif re.match(r\"^<(\\d+(?:\\.\\d+)?)$\", numeric_text):\n",
    "        max_val = float(re.findall(r\"\\d+(?:\\.\\d+)?\", numeric_text)[0])\n",
    "\n",
    "    # Single number\n",
    "    elif re.match(r\"^(\\d+(?:\\.\\d+)?)$\", numeric_text):\n",
    "        val = float(numeric_text)\n",
    "        min_val, max_val = val, val\n",
    "\n",
    "    return (min_val, max_val, unit)"
   ]
  },
  {
   "cell_type": "code",
   "execution_count": 468,
   "id": "c7900c4e",
   "metadata": {},
   "outputs": [],
   "source": [
    "def parse_columns_ranges(df: pd.DataFrame, columns: list):\n",
    "    for col in columns:\n",
    "        new_columns = [f\"{col}_min\", f\"{col}_max\", f\"{col}_unit\"]\n",
    "        df[new_columns] = df[col].apply(\n",
    "            lambda x: pd.Series(parse_range_with_unit(x))\n",
    "        )\n",
    "    return df"
   ]
  },
  {
   "cell_type": "code",
   "execution_count": 469,
   "id": "3e55c2d9",
   "metadata": {},
   "outputs": [],
   "source": [
    "# Parse the range valued dataframe\n",
    "rfq_ref_parsed = parse_columns_ranges(rfq_ref_ranges, range_columns)"
   ]
  },
  {
   "cell_type": "code",
   "execution_count": 470,
   "id": "ad4e50f8",
   "metadata": {},
   "outputs": [],
   "source": [
    "# Parse the column names for lower casing, replace the whitespace with underscore.\n",
    "rfq_ref_parsed.columns = (\n",
    "    rfq_ref_parsed.columns\n",
    "    .str.lower()\n",
    "    .str.replace(\" \", \"_\")\n",
    ")\n",
    "\n",
    "# Drop the columns that doesn't have the suffixes min, max, unit - columns with ranging values.\n",
    "rfq_ref_parsed = rfq_ref_parsed[[c for c in rfq_ref_parsed.columns if c.endswith((\"_min\", \"_max\", \"_unit\"))]]\n",
    "\n",
    "# Non range value columns. \n",
    "rfq_ref_meta = rfq_ref[[c for c in columns_except]]\n",
    "rfq_ref_meta.columns = (\n",
    "    rfq_ref_meta.columns\n",
    "    .str.lower()\n",
    "    .str.replace(\" \", \"_\")\n",
    ")\n",
    "\n",
    "rfq_ref_meta = rfq_ref_meta.drop(columns=['grade/material', 'grade_suffix', 'grade']) # this has been dealt to the grade, grade_suffix,and grade_join. \n"
   ]
  },
  {
   "cell_type": "code",
   "execution_count": 471,
   "id": "9507b694",
   "metadata": {},
   "outputs": [],
   "source": [
    "# Concatenate the meta data and the previously range valued data.\n",
    "rfq_ref_b1 = pd.concat([rfq_ref_meta, rfq_ref_parsed], axis=1)"
   ]
  },
  {
   "cell_type": "code",
   "execution_count": 472,
   "id": "17fd34e1",
   "metadata": {},
   "outputs": [],
   "source": [
    "joined_rfq = pd.merge(rfq_data, rfq_ref_b1, on=\"grade_joined\", how=\"left\", suffixes=(\"_rfq\", \"_ref\"))"
   ]
  },
  {
   "cell_type": "markdown",
   "id": "b3250a47",
   "metadata": {},
   "source": [
    "After join\n",
    "1. Drop rows without the identifiers or grade.\n",
    "2. Keep-null for the categorical values.\n",
    "3. Impute the min, max values if one is missing, then paste the other values."
   ]
  },
  {
   "cell_type": "code",
   "execution_count": 473,
   "id": "789cde5e",
   "metadata": {},
   "outputs": [],
   "source": [
    "# Handle the null columns except min, max columns\n",
    "columns_remain  = [c for c in rfq_ref_parsed.columns if c.endswith((\"_min\", \"_max\"))]\n",
    "columns_to_check = [c for c in joined_rfq.columns if c not in columns_remain]\n",
    "\n",
    "# Normalize the empty strings to NA values.\n",
    "joined_rfq = joined_rfq.replace(\"\", pd.NA)\n",
    "\n",
    "for col in columns_to_check:\n",
    "    if col not in columns_remain and joined_rfq[col].isna().all():\n",
    "        joined_rfq = joined_rfq.drop(columns=col)\n",
    "        \n",
    "# All columns have the id but not all have grade. flag the rows without the grade.\n",
    "joined_rfq['missing_grade'] = joined_rfq['grade'].isna()"
   ]
  },
  {
   "cell_type": "code",
   "execution_count": 474,
   "id": "f3e1ea7a",
   "metadata": {},
   "outputs": [
    {
     "name": "stderr",
     "output_type": "stream",
     "text": [
      "/var/folders/mj/1nr0yb1j6613vj2xw4h6pj_00000gn/T/ipykernel_56625/961913711.py:8: FutureWarning: Downcasting object dtype arrays on .fillna, .ffill, .bfill is deprecated and will change in a future version. Call result.infer_objects(copy=False) instead. To opt-in to the future behavior, set `pd.set_option('future.no_silent_downcasting', True)`\n",
      "  joined_rfq[min_col] = joined_rfq[min_col].fillna(joined_rfq[max_col])\n",
      "/var/folders/mj/1nr0yb1j6613vj2xw4h6pj_00000gn/T/ipykernel_56625/961913711.py:9: FutureWarning: Downcasting object dtype arrays on .fillna, .ffill, .bfill is deprecated and will change in a future version. Call result.infer_objects(copy=False) instead. To opt-in to the future behavior, set `pd.set_option('future.no_silent_downcasting', True)`\n",
      "  joined_rfq[max_col] = joined_rfq[max_col].fillna(joined_rfq[min_col])\n"
     ]
    }
   ],
   "source": [
    "# Impute the rows with only min or max values.\n",
    "range_feature = {c.rsplit(\"_\", 1)[0] for c in joined_rfq.columns if c.endswith((\"_min\", \"_max\"))}\n",
    "range_feature = list(range_feature)\n",
    "\n",
    "for feat in range_feature:\n",
    "    min_col, max_col = f\"{feat}_min\", f\"{feat}_max\"\n",
    "    if min_col in joined_rfq.columns and max_col in joined_rfq.columns: # there are some feature with only _min or only _max. \n",
    "        joined_rfq[min_col] = joined_rfq[min_col].fillna(joined_rfq[max_col])\n",
    "        joined_rfq[max_col] = joined_rfq[max_col].fillna(joined_rfq[min_col])"
   ]
  },
  {
   "cell_type": "markdown",
   "id": "60a1c921",
   "metadata": {},
   "source": [
    "#### Task B.2\n",
    "1. Represent the dimensions into intervals and calculate the overlapping ratios.\n",
    "2. Define the similarity as exact matches in categorical values\n",
    "3. Represent the grade properties by the midpoints of the ranges in chemical features. "
   ]
  },
  {
   "cell_type": "code",
   "execution_count": null,
   "id": "77565ffb",
   "metadata": {},
   "outputs": [],
   "source": [
    "# Get features to calculate the dimensions overlapping\n",
    "dimension_features_with_ranges = ['thickness_min', 'thickness_max',\n",
    "       'width_min', 'width_max', 'length_min', 'height_min', 'height_max',\n",
    "       'weight_min', 'weight_max', 'inner_diameter_min', 'inner_diameter_max',\n",
    "       'outer_diameter_min', 'outer_diameter_max', 'yield_strength_min',\n",
    "       'yield_strength_max', 'tensile_strength_min', 'tensile_strength_max']\n",
    "dimension_features = list({feat.rsplit(\"_\", 1)[0] for feat in dimension_features_with_ranges})"
   ]
  },
  {
   "cell_type": "code",
   "execution_count": 476,
   "id": "593b7f0b",
   "metadata": {},
   "outputs": [],
   "source": [
    "rfq_dimensions = joined_rfq[dimension_features_with_ranges].copy()"
   ]
  },
  {
   "cell_type": "code",
   "execution_count": 477,
   "id": "7b08cfb7",
   "metadata": {},
   "outputs": [],
   "source": [
    "for feat in dimension_features:\n",
    "    min_feat, max_feat = f\"{feat}_min\", f\"{feat}_max\"\n",
    "    if min_feat in rfq_dimensions.columns and max_feat in rfq_dimensions.columns: \n",
    "        rfq_dimensions[f\"{feat}_interval\"] = rfq_dimensions.apply(lambda row: (row[min_feat], row[max_feat]), axis=1)\n",
    "    elif min_feat in rfq_dimensions.columns:\n",
    "        rfq_dimensions[f\"{feat}_interval\"] = rfq_dimensions[min_feat].apply(lambda v: (v, v))\n",
    "    elif max_feat in rfq_dimensions.columns:\n",
    "        rfq_dimensions[f\"{feat}_interval\"] = rfq_dimensions[max_feat].apply(lambda v: (v, v))"
   ]
  },
  {
   "cell_type": "code",
   "execution_count": 478,
   "id": "2af306e4",
   "metadata": {},
   "outputs": [],
   "source": [
    "# Suggestion: calculate the Intersection over Union (IoU)\n",
    "def calculate_iou(interval1: tuple, interval2: tuple):\n",
    "    a1, a2 = interval1\n",
    "    b1, b2 = interval2\n",
    "\n",
    "    if pd.isna(a1) or pd.isna(a2) or pd.isna(b1) or pd.isna(b2):\n",
    "        return None\n",
    "    else:\n",
    "        intersection = max(0, min(a2, b2) - max(a1,b1))\n",
    "        union = max(a2, b2) - min(a1, b1)\n",
    "\n",
    "        return intersection / union if union > 0 else 0"
   ]
  },
  {
   "cell_type": "markdown",
   "id": "6ce634b4",
   "metadata": {},
   "source": [
    "The dataframe rfq_dimensions represent the interval dimensions of the grade from buyer's request, and the Intersection over Union can be calculated using the function 'calculate_iou'. "
   ]
  },
  {
   "cell_type": "code",
   "execution_count": null,
   "id": "1a0eb28b",
   "metadata": {},
   "outputs": [],
   "source": [
    "# Similarity definition\n",
    "df_categorical_similarity = joined_rfq[['coating_rfq', 'finish', 'surface_type', 'form']].copy()\n",
    "\n",
    "def calculate_similarity_in_categoricals(value1: str, value2: str):\n",
    "    if pd.isna(value1) or pd.isna(value2):\n",
    "        return None\n",
    "    else:\n",
    "        return int(value1 == value2)\n",
    "    \n",
    "categorical_features = list(df_categorical_similarity.columns)\n",
    "\n",
    "def rfq_categorical_similarity(row1, row2, features=categorical_features):\n",
    "    scores = []\n",
    "    for feat in features:\n",
    "        score = calculate_similarity_in_categoricals(row1[feat], row2[feat])\n",
    "        if score is not None:\n",
    "            scores.append(score)\n",
    "    return sum(scores) / len(scores) if scores else None"
   ]
  },
  {
   "cell_type": "markdown",
   "id": "cff992b8",
   "metadata": {},
   "source": [
    "The function rfq_categorical_similarity will calculate the scores across the different categorical features and calculate the averaged similarity between the RFQs."
   ]
  },
  {
   "cell_type": "code",
   "execution_count": null,
   "id": "8af50320",
   "metadata": {},
   "outputs": [],
   "source": [
    "# Grade properties \n",
    "range_feature = list(set(joined_rfq.columns) - set(dimension_features_with_ranges)) # features that were originally from reference, with range values.\n",
    "range_feature = list({feat.rsplit(\"_\", 1)[0] for feat in range_feature})\n",
    "for feat in range_feature:\n",
    "    min_feat, max_feat = f\"{feat}_min\", f\"{feat}_max\"\n",
    "    mid_feat = f\"{feat}_mid\"\n",
    "    if min_feat in joined_rfq.columns and max_feat in joined_rfq.columns:\n",
    "        joined_rfq[mid_feat] = joined_rfq[[min_feat, max_feat]].mean(axis=1)\n",
    "\n",
    "# Get the properties columns.\n",
    "mid_cols = [c for c in joined_rfq.columns if c.endswith(\"_mid\")]\n",
    "sparsity = joined_rfq[mid_cols].notna().mean()\n",
    "\n",
    "# Drop features with <10% coverage - Strictly remove the columns.\n",
    "sparse_cols = sparsity[sparsity < 0.1].index\n",
    "joined_rfq = joined_rfq.drop(columns=sparse_cols)"
   ]
  },
  {
   "cell_type": "markdown",
   "id": "0ed67045",
   "metadata": {},
   "source": [
    "Grade properties, espeically the chemical compositions are represented with numerical values, a midpoints of the ranges provided from the reference. "
   ]
  },
  {
   "cell_type": "markdown",
   "id": "81517052",
   "metadata": {},
   "source": [
    "#### Task B.3 Similarity Calculation "
   ]
  },
  {
   "cell_type": "code",
   "execution_count": null,
   "id": "cd568326",
   "metadata": {},
   "outputs": [],
   "source": []
  }
 ],
 "metadata": {
  "kernelspec": {
   "display_name": ".venv",
   "language": "python",
   "name": "python3"
  },
  "language_info": {
   "codemirror_mode": {
    "name": "ipython",
    "version": 3
   },
   "file_extension": ".py",
   "mimetype": "text/x-python",
   "name": "python",
   "nbconvert_exporter": "python",
   "pygments_lexer": "ipython3",
   "version": "3.13.7"
  }
 },
 "nbformat": 4,
 "nbformat_minor": 5
}
